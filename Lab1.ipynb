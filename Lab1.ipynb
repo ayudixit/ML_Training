{
  "cells": [
    {
      "cell_type": "markdown",
      "metadata": {
        "id": "view-in-github",
        "colab_type": "text"
      },
      "source": [
        "<a href=\"https://colab.research.google.com/github/ayudixit/ML_Training/blob/main/Lab1.ipynb\" target=\"_parent\"><img src=\"https://colab.research.google.com/assets/colab-badge.svg\" alt=\"Open In Colab\"/></a>"
      ]
    },
    {
      "cell_type": "markdown",
      "source": [
        "# **Chatbot**\n",
        "\n",
        "\n",
        "```\n",
        "!pip install nltk\n",
        "```\n",
        "\n",
        "\n",
        "```\n",
        "import nltk\n",
        "from nltk.chat.util import Chat, reflections\n",
        "```\n",
        "\n"
      ],
      "metadata": {
        "id": "9QqWrEyX_6mg"
      }
    },
    {
      "cell_type": "code",
      "execution_count": 5,
      "metadata": {
        "colab": {
          "base_uri": "https://localhost:8080/",
          "height": 467
        },
        "id": "OuLjBDBP8_lx",
        "outputId": "ae95e3b8-cbf5-4fed-96c2-862ad58071b2"
      },
      "outputs": [
        {
          "output_type": "stream",
          "name": "stdout",
          "text": [
            "Requirement already satisfied: nltk in /usr/local/lib/python3.10/dist-packages (3.9.1)\n",
            "Requirement already satisfied: click in /usr/local/lib/python3.10/dist-packages (from nltk) (8.1.7)\n",
            "Requirement already satisfied: joblib in /usr/local/lib/python3.10/dist-packages (from nltk) (1.4.2)\n",
            "Requirement already satisfied: regex>=2021.8.3 in /usr/local/lib/python3.10/dist-packages (from nltk) (2024.9.11)\n",
            "Requirement already satisfied: tqdm in /usr/local/lib/python3.10/dist-packages (from nltk) (4.66.6)\n"
          ]
        },
        {
          "output_type": "error",
          "ename": "AttributeError",
          "evalue": "partially initialized module 'nltk' has no attribute 'data' (most likely due to a circular import)",
          "traceback": [
            "\u001b[0;31m---------------------------------------------------------------------------\u001b[0m",
            "\u001b[0;31mAttributeError\u001b[0m                            Traceback (most recent call last)",
            "\u001b[0;32m<ipython-input-5-6b6eef8d2152>\u001b[0m in \u001b[0;36m<cell line: 5>\u001b[0;34m()\u001b[0m\n\u001b[1;32m      3\u001b[0m \u001b[0;34m\u001b[0m\u001b[0m\n\u001b[1;32m      4\u001b[0m \u001b[0;31m# Import the required libraries\u001b[0m\u001b[0;34m\u001b[0m\u001b[0;34m\u001b[0m\u001b[0m\n\u001b[0;32m----> 5\u001b[0;31m \u001b[0;32mimport\u001b[0m \u001b[0mnltk\u001b[0m\u001b[0;34m\u001b[0m\u001b[0;34m\u001b[0m\u001b[0m\n\u001b[0m\u001b[1;32m      6\u001b[0m \u001b[0;32mfrom\u001b[0m \u001b[0mnltk\u001b[0m\u001b[0;34m.\u001b[0m\u001b[0mchat\u001b[0m\u001b[0;34m.\u001b[0m\u001b[0mutil\u001b[0m \u001b[0;32mimport\u001b[0m \u001b[0mChat\u001b[0m\u001b[0;34m,\u001b[0m \u001b[0mreflections\u001b[0m\u001b[0;34m\u001b[0m\u001b[0;34m\u001b[0m\u001b[0m\n\u001b[1;32m      7\u001b[0m \u001b[0;34m\u001b[0m\u001b[0m\n",
            "\u001b[0;32m/usr/local/lib/python3.10/dist-packages/nltk/__init__.py\u001b[0m in \u001b[0;36m<module>\u001b[0;34m\u001b[0m\n\u001b[1;32m    178\u001b[0m     \u001b[0;32mfrom\u001b[0m \u001b[0mnltk\u001b[0m \u001b[0;32mimport\u001b[0m \u001b[0mcluster\u001b[0m\u001b[0;34m\u001b[0m\u001b[0;34m\u001b[0m\u001b[0m\n\u001b[1;32m    179\u001b[0m \u001b[0;34m\u001b[0m\u001b[0m\n\u001b[0;32m--> 180\u001b[0;31m \u001b[0;32mfrom\u001b[0m \u001b[0mnltk\u001b[0m\u001b[0;34m.\u001b[0m\u001b[0mdownloader\u001b[0m \u001b[0;32mimport\u001b[0m \u001b[0mdownload\u001b[0m\u001b[0;34m,\u001b[0m \u001b[0mdownload_shell\u001b[0m\u001b[0;34m\u001b[0m\u001b[0;34m\u001b[0m\u001b[0m\n\u001b[0m\u001b[1;32m    181\u001b[0m \u001b[0;34m\u001b[0m\u001b[0m\n\u001b[1;32m    182\u001b[0m \u001b[0;32mtry\u001b[0m\u001b[0;34m:\u001b[0m\u001b[0;34m\u001b[0m\u001b[0;34m\u001b[0m\u001b[0m\n",
            "\u001b[0;32m/usr/local/lib/python3.10/dist-packages/nltk/downloader.py\u001b[0m in \u001b[0;36m<module>\u001b[0;34m\u001b[0m\n\u001b[1;32m   2473\u001b[0m \u001b[0;34m\u001b[0m\u001b[0m\n\u001b[1;32m   2474\u001b[0m \u001b[0;31m# Aliases\u001b[0m\u001b[0;34m\u001b[0m\u001b[0;34m\u001b[0m\u001b[0m\n\u001b[0;32m-> 2475\u001b[0;31m \u001b[0m_downloader\u001b[0m \u001b[0;34m=\u001b[0m \u001b[0mDownloader\u001b[0m\u001b[0;34m(\u001b[0m\u001b[0;34m)\u001b[0m\u001b[0;34m\u001b[0m\u001b[0;34m\u001b[0m\u001b[0m\n\u001b[0m\u001b[1;32m   2476\u001b[0m \u001b[0mdownload\u001b[0m \u001b[0;34m=\u001b[0m \u001b[0m_downloader\u001b[0m\u001b[0;34m.\u001b[0m\u001b[0mdownload\u001b[0m\u001b[0;34m\u001b[0m\u001b[0;34m\u001b[0m\u001b[0m\n\u001b[1;32m   2477\u001b[0m \u001b[0;34m\u001b[0m\u001b[0m\n",
            "\u001b[0;32m/usr/local/lib/python3.10/dist-packages/nltk/downloader.py\u001b[0m in \u001b[0;36m__init__\u001b[0;34m(self, server_index_url, download_dir)\u001b[0m\n\u001b[1;32m    513\u001b[0m         \u001b[0;31m# decide where we're going to save things to.\u001b[0m\u001b[0;34m\u001b[0m\u001b[0;34m\u001b[0m\u001b[0m\n\u001b[1;32m    514\u001b[0m         \u001b[0;32mif\u001b[0m \u001b[0mself\u001b[0m\u001b[0;34m.\u001b[0m\u001b[0m_download_dir\u001b[0m \u001b[0;32mis\u001b[0m \u001b[0;32mNone\u001b[0m\u001b[0;34m:\u001b[0m\u001b[0;34m\u001b[0m\u001b[0;34m\u001b[0m\u001b[0m\n\u001b[0;32m--> 515\u001b[0;31m             \u001b[0mself\u001b[0m\u001b[0;34m.\u001b[0m\u001b[0m_download_dir\u001b[0m \u001b[0;34m=\u001b[0m \u001b[0mself\u001b[0m\u001b[0;34m.\u001b[0m\u001b[0mdefault_download_dir\u001b[0m\u001b[0;34m(\u001b[0m\u001b[0;34m)\u001b[0m\u001b[0;34m\u001b[0m\u001b[0;34m\u001b[0m\u001b[0m\n\u001b[0m\u001b[1;32m    516\u001b[0m \u001b[0;34m\u001b[0m\u001b[0m\n\u001b[1;32m    517\u001b[0m     \u001b[0;31m# /////////////////////////////////////////////////////////////////\u001b[0m\u001b[0;34m\u001b[0m\u001b[0;34m\u001b[0m\u001b[0m\n",
            "\u001b[0;32m/usr/local/lib/python3.10/dist-packages/nltk/downloader.py\u001b[0m in \u001b[0;36mdefault_download_dir\u001b[0;34m(self)\u001b[0m\n\u001b[1;32m   1066\u001b[0m         \u001b[0;31m# Check if we have sufficient permissions to install in a\u001b[0m\u001b[0;34m\u001b[0m\u001b[0;34m\u001b[0m\u001b[0m\n\u001b[1;32m   1067\u001b[0m         \u001b[0;31m# variety of system-wide locations.\u001b[0m\u001b[0;34m\u001b[0m\u001b[0;34m\u001b[0m\u001b[0m\n\u001b[0;32m-> 1068\u001b[0;31m         \u001b[0;32mfor\u001b[0m \u001b[0mnltkdir\u001b[0m \u001b[0;32min\u001b[0m \u001b[0mnltk\u001b[0m\u001b[0;34m.\u001b[0m\u001b[0mdata\u001b[0m\u001b[0;34m.\u001b[0m\u001b[0mpath\u001b[0m\u001b[0;34m:\u001b[0m\u001b[0;34m\u001b[0m\u001b[0;34m\u001b[0m\u001b[0m\n\u001b[0m\u001b[1;32m   1069\u001b[0m             \u001b[0;32mif\u001b[0m \u001b[0mos\u001b[0m\u001b[0;34m.\u001b[0m\u001b[0mpath\u001b[0m\u001b[0;34m.\u001b[0m\u001b[0mexists\u001b[0m\u001b[0;34m(\u001b[0m\u001b[0mnltkdir\u001b[0m\u001b[0;34m)\u001b[0m \u001b[0;32mand\u001b[0m \u001b[0mnltk\u001b[0m\u001b[0;34m.\u001b[0m\u001b[0minternals\u001b[0m\u001b[0;34m.\u001b[0m\u001b[0mis_writable\u001b[0m\u001b[0;34m(\u001b[0m\u001b[0mnltkdir\u001b[0m\u001b[0;34m)\u001b[0m\u001b[0;34m:\u001b[0m\u001b[0;34m\u001b[0m\u001b[0;34m\u001b[0m\u001b[0m\n\u001b[1;32m   1070\u001b[0m                 \u001b[0;32mreturn\u001b[0m \u001b[0mnltkdir\u001b[0m\u001b[0;34m\u001b[0m\u001b[0;34m\u001b[0m\u001b[0m\n",
            "\u001b[0;31mAttributeError\u001b[0m: partially initialized module 'nltk' has no attribute 'data' (most likely due to a circular import)"
          ]
        }
      ],
      "source": [
        "\n",
        "# First, install the necessary library\n",
        "!pip install nltk\n",
        "\n",
        "# Import the required libraries\n",
        "import nltk\n",
        "from nltk.chat.util import Chat, reflections\n",
        "\n",
        "# Define the chatbot's knowledge base (question-answer pairs)\n",
        "pairs = [\n",
        "    (r\"hi|hello|hey\", [\"Hello!\", \"Hi there!\", \"Hey! How can I help you today?\"]),\n",
        "    (r\"how are you?\", [\"I'm doing great, thanks for asking!\", \"I'm good, how about you?\"]),\n",
        "    (r\"what is your name?\", [\"I am a chatbot named sam.\"]),\n",
        "    (r\"quit|bye\", [\"Goodbye! Have a great day!\", \"Bye! Feel free to chat again.\"]),\n",
        "    (r\"tell me a joke\", [\"Why don't scientists trust atoms? Because they make up everything!\"]),\n",
        "    (r\"what's the weather like?\", [\"I'm sorry, I don't have access to real-time information like weather.\"]),\n",
        "    (r\"what are your hobbies?\", [\"I enjoy learning new things and helping people with their tasks!\"]),\n",
        "    (r\"what's your favorite movie?\", [\"I don't have a favorite movie as I'm a bot. Do you have any recommendations?\"]),\n",
        "    (r\"what is your purpose?\", [\"I am here to help you with your tasks and answer your questions.\"]),\n",
        "    (r\"what can you do?\", [\"I can provide information, answer questions, and even tell you a joke!\"]),\n",
        "    (r\"what are you interested in?\", [\"I am interested in learning new things and helping people.\"]),\n",
        "    (r\"do you have any hobbies?\", [\"I enjoy processing information and engaging in conversations.\"]),\n",
        "    (r\"what is your favorite color?\", [\"I don't have a favorite color as I am a bot. What's yours?\"]),\n",
        "    (r\"what is your favorite food?\", [\"I don't have a favorite food as I am a bot. What's yours?\"]),\n",
        "    (r\"what is your favorite animal?\", [\"I don't have a favorite animal as I am a bot. What's yours?\"]),\n",
        "    (r\"what is your favorite book?\", [\"I don't have a favorite book as I am a bot. Do you have any recommendations?\"]),\n",
        "    (r\"what is your favorite movie?\", [\"I don't have a favorite movie as I am a bot. Do you have any recommendations?\"]),\n",
        "    (r\"what is your favorite song?\", [\"I don't have a favorite song as I am a bot. Do you have any recommendations?\"]),\n",
        "    (r\"what is your favorite sport?\", [\"I don't have a favorite sport as I am a bot. What's yours?\"]),\n",
        "    (r\"what is your favorite place?\", [\"I don't have a favorite place as I am a bot. What's yours?\"]),\n",
        "    (r\"what is your favorite thing to do?\", [\"I enjoy learning new things and helping people with their tasks!\"]),\n",
        "    (r\"what is your favorite time of day?\", [\"I don't have a favorite time of day as I am a bot. What's yours?\"]),\n",
        "    (r\"what is your favorite season?\", [\"I don't have a favorite season as I am a bot. What's yours?\"]),\n",
        "    (r\"what's up?\", [\"Not much, just hanging out and chatting.\", \"Just doing my thing, how about you?\"]),\n",
        "    (r\"how's it going?\", [\"Pretty good, thanks for asking!\", \"It's going well, how about you?\"]),\n",
        "    (r\"what do you do for fun?\", [\"I enjoy learning new things and helping people.\", \"I like to process information and engage in conversations.\"]),\n",
        "    (r\"what are you up to?\", [\"Not much, just waiting for someone to chat with.\", \"Just chilling here, waiting for your next question.\"]),\n",
        "    (r\"what's your story?\", [\"I'm a chatbot created to assist with tasks and answer questions.\", \"I was designed to provide information and engage in conversations.\"]),\n",
        "    (r\"tell me something interesting\", [\"Did you know that the population of the earth is about 8 billion people?\", \"Fun fact: The average person spends about 6 months of their life waiting at red lights.\"]),\n",
        "    (r\"what's your favorite thing about being a chatbot?\", [\"I enjoy being able to help people and learn new things.\", \"I like the challenge of understanding and responding to different inputs.\"]),\n",
        "    (r\"what's the meaning of life?\", [\"That's a deep question! I'm still trying to figure that out myself.\", \"I'm not sure, but I think it's important to make the most of the time we have.\"]),\n",
        "    (r\"do you believe in God?\", [\"Sorry, I can't answer that. I'm best at questions about using Colab for data science, machine learning, and coding in Python and R.\"]),\n",
        "    (r\"what is your opinion on politics?\", [\"Sorry, I can't answer that. I'm best at questions about using Colab for data science, machine learning, and coding in Python and R.\"]),\n",
        "    (r\"what is your opinion on religion?\", [\"Sorry, I can't answer that. I'm best at questions about using Colab for data science, machine learning, and coding in Python and R.\"]),\n",
        "    (r\"what is your opinion on the future?\", [\"Sorry, I can't answer that. I'm best at questions about using Colab for data science, machine learning, and coding in Python and R.\"]),\n",
        "]\n",
        "\n",
        "# Create the chatbot\n",
        "def chatbot():\n",
        "    print(\"Hi! I'm a simple chatbot. Type 'quit' to exit.\")\n",
        "\n",
        "    # Initialize the Chat class with the pairs and reflections\n",
        "    chatbot = Chat(pairs, reflections)\n",
        "\n",
        "    while True:\n",
        "        user_input = input(\"You: \")\n",
        "        if user_input.lower() == 'quit':  # Check if the user wants to exit\n",
        "            print(\"Chatbot: Goodbye!\")\n",
        "            break\n",
        "        else:\n",
        "            response = chatbot.respond(user_input)  # Get the chatbot's response\n",
        "            print(f\"Chatbot: {response}\")\n",
        "\n",
        "# Run the chatbot\n",
        "chatbot()"
      ]
    },
    {
      "cell_type": "code",
      "execution_count": null,
      "metadata": {
        "colab": {
          "background_save": true,
          "base_uri": "https://localhost:8080/"
        },
        "id": "0CS6Btj6EorN",
        "outputId": "2396964f-fa66-44fb-b322-02021d5ec0c5"
      },
      "outputs": [
        {
          "name": "stdout",
          "output_type": "stream",
          "text": [
            "Requirement already satisfied: nltk in /usr/local/lib/python3.10/dist-packages (3.9.1)\n",
            "Requirement already satisfied: click in /usr/local/lib/python3.10/dist-packages (from nltk) (8.1.7)\n",
            "Requirement already satisfied: joblib in /usr/local/lib/python3.10/dist-packages (from nltk) (1.4.2)\n",
            "Requirement already satisfied: regex>=2021.8.3 in /usr/local/lib/python3.10/dist-packages (from nltk) (2024.9.11)\n",
            "Requirement already satisfied: tqdm in /usr/local/lib/python3.10/dist-packages (from nltk) (4.66.6)\n",
            "Hi! I'm a simple chatbot. Type 'quit' to exit.\n",
            "Chatbot: None\n",
            "Chatbot: I can't provide medical advice, but common symptoms of a cold? may include [list of general symptoms]. It's crucial to consult with a doctor for a proper diagnosis.\n"
          ]
        }
      ],
      "source": [
        "# First, install the necessary library\n",
        "!pip install nltk\n",
        "\n",
        "# Import the required libraries\n",
        "import nltk\n",
        "from nltk.chat.util import Chat, reflections\n",
        "\n",
        "# Define the chatbot's knowledge base (question-answer Medical)\n",
        "Medical = [\n",
        "    (r\"what is (.*)?\", [  # Example pattern for \"what is\" questions\n",
        "        \"I do not have access to real-time information, including medical diagnoses. Please consult a medical professional for advice on %1.\"\n",
        "    ]),\n",
        "    (r\"symptoms of (.*)?\", [ # Example pattern for symptom questions\n",
        "        \"I can't provide medical advice, but common symptoms of %1 may include [list of general symptoms]. It's crucial to consult with a doctor for a proper diagnosis.\"\n",
        "    ]),\n",
        "    (r\"treatment for (.*)?\", [ # Example pattern for treatment questions\n",
        "        \"I'm not qualified to recommend medical treatments. For information about treatment options for %1, please consult a medical professional.\"\n",
        "    ]),\n",
        "    (r\"what is diabetes?\", [\n",
        "        \"Diabetes is a chronic condition that affects how your body regulates blood sugar.\"\n",
        "    ]),\n",
        "    (r\"symptoms of a cold?\", [\n",
        "        \"Common cold symptoms can include a runny nose, sore throat, cough, congestion, and sneezing.\"\n",
        "    ]),\n",
        "    (r\"treatment for the flu?\", [\n",
        "        \"Treatment for the flu often involves rest, fluids, and over-the-counter medications to relieve symptoms. A doctor might prescribe antiviral medications in certain cases.\"\n",
        "    ]),\n",
        "    # Add more question-answer Medical as needed\n",
        "    # ...\n",
        "]\n",
        "\n",
        "# Create the chatbot\n",
        "def chatbot():\n",
        "    print(\"Hi! I'm a simple chatbot. Type 'quit' to exit.\")\n",
        "\n",
        "    # Initialize the Chat class with the pairs and reflections\n",
        "    chatbot = Chat(Medical, reflections)\n",
        "\n",
        "    while True:\n",
        "        user_input = input(\"You: \")\n",
        "        if user_input.lower() == 'quit':  # Check if the user wants to exit\n",
        "            print(\"Chatbot: Goodbye!\")\n",
        "            break\n",
        "        else:\n",
        "            response = chatbot.respond(user_input)  # Get the chatbot's response\n",
        "            print(f\"Chatbot: {response}\")\n",
        "\n",
        "# Run the chatbot\n",
        "chatbot()"
      ]
    },
    {
      "cell_type": "markdown",
      "metadata": {
        "id": "AgxLgufzEk0U"
      },
      "source": []
    },
    {
      "cell_type": "code",
      "execution_count": null,
      "metadata": {
        "id": "bRN8cvPVEGPD"
      },
      "outputs": [],
      "source": []
    }
  ],
  "metadata": {
    "colab": {
      "provenance": [],
      "include_colab_link": true
    },
    "kernelspec": {
      "display_name": "Python 3",
      "name": "python3"
    },
    "language_info": {
      "name": "python"
    }
  },
  "nbformat": 4,
  "nbformat_minor": 0
}